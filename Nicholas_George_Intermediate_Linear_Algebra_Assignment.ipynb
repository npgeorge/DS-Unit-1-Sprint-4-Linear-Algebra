{
  "nbformat": 4,
  "nbformat_minor": 0,
  "metadata": {
    "colab": {
      "name": "Nicholas George Intermediate Linear Algebra Assignment.ipynb",
      "provenance": [],
      "collapsed_sections": [],
      "include_colab_link": true
    },
    "kernelspec": {
      "name": "python3",
      "display_name": "Python 3"
    }
  },
  "cells": [
    {
      "cell_type": "markdown",
      "metadata": {
        "id": "view-in-github",
        "colab_type": "text"
      },
      "source": [
        "<a href=\"https://colab.research.google.com/github/npgeorge/DS-Unit-1-Sprint-4-Linear-Algebra/blob/master/Nicholas_George_Intermediate_Linear_Algebra_Assignment.ipynb\" target=\"_parent\"><img src=\"https://colab.research.google.com/assets/colab-badge.svg\" alt=\"Open In Colab\"/></a>"
      ]
    },
    {
      "cell_type": "markdown",
      "metadata": {
        "id": "GSNiYn8lr6nN",
        "colab_type": "text"
      },
      "source": [
        "# Statistics"
      ]
    },
    {
      "cell_type": "markdown",
      "metadata": {
        "id": "3d4izUhQvh2_",
        "colab_type": "text"
      },
      "source": [
        "## 1.1 Sales for the past week was the following amounts: [3505, 2400, 3027, 2798, 3700, 3250, 2689]. Without using library functions, what is the mean, variance, and standard deviation of of sales from last week? (for extra bonus points, write your own function that can calculate these two values for any sized list)"
      ]
    },
    {
      "cell_type": "code",
      "metadata": {
        "id": "FhD-rPDhsC3V",
        "colab_type": "code",
        "colab": {}
      },
      "source": [
        "import pandas as pd\n",
        "import numpy as np\n",
        "import matplotlib.pyplot as plt"
      ],
      "execution_count": 0,
      "outputs": []
    },
    {
      "cell_type": "code",
      "metadata": {
        "id": "w1iZfYvBtEA1",
        "colab_type": "code",
        "outputId": "183b5fe0-2215-43c8-e614-d2a8b932d147",
        "colab": {
          "base_uri": "https://localhost:8080/",
          "height": 34
        }
      },
      "source": [
        "#list\n",
        "sales =  [3505, 2400, 3027, 2798, 3700, 3250, 2689]\n",
        "\n",
        "#mean\n",
        "mean = sum(sales)/len(sales)\n",
        "\n",
        "#comprehensive list variance function\n",
        "var = sum([(ii-mean)**2/len(sales) for ii in sales])\n",
        "\n",
        "#check for variance hard coded\n",
        "#var_2 = ((3505-mean)**2+(2400-mean)**2+(3027-mean)**2+(2798-mean)**2+(3700-mean)**2+(3250-mean)**2+(2689-mean)**2)/len(sales)\n",
        "\n",
        "#standard deviation\n",
        "sales_std_dev = var**0.5\n",
        "\n",
        "#print\n",
        "print('The mean is: ', round(mean,2),'. The variance is: ', round(var,2), '. The standard deviation is: ', round(sales_std_dev,2),'.')"
      ],
      "execution_count": 37,
      "outputs": [
        {
          "output_type": "stream",
          "text": [
            "The mean is:  3052.71 . The variance is:  183761.06 . The standard deviation is:  428.67 .\n"
          ],
          "name": "stdout"
        }
      ]
    },
    {
      "cell_type": "markdown",
      "metadata": {
        "id": "oh63KaOctEp_",
        "colab_type": "text"
      },
      "source": [
        "## 1.2 Find the covariance between last week's sales numbers and the number of customers that entered the store last week: [127, 80, 105, 92, 120, 115, 93] (you may use librray functions for calculating the covariance since we didn't specifically talk about its formula)"
      ]
    },
    {
      "cell_type": "code",
      "metadata": {
        "id": "G7ZB0krot564",
        "colab_type": "code",
        "colab": {
          "base_uri": "https://localhost:8080/",
          "height": 257
        },
        "outputId": "d247c4bb-724f-4d2f-f99d-54c38ab9b5e9"
      },
      "source": [
        "#finding covariance\n",
        "cust_lw = [127, 80, 105, 92, 120, 115, 93]\n",
        "\n",
        "#putting sales and customers into a dictionary\n",
        "dict = {'Customers': cust_lw, 'Sales': sales}  \n",
        "\n",
        "#putting that dictionary into a dataframe    \n",
        "df = pd.DataFrame(dict)\n",
        "\n",
        "df"
      ],
      "execution_count": 69,
      "outputs": [
        {
          "output_type": "execute_result",
          "data": {
            "text/html": [
              "<div>\n",
              "<style scoped>\n",
              "    .dataframe tbody tr th:only-of-type {\n",
              "        vertical-align: middle;\n",
              "    }\n",
              "\n",
              "    .dataframe tbody tr th {\n",
              "        vertical-align: top;\n",
              "    }\n",
              "\n",
              "    .dataframe thead th {\n",
              "        text-align: right;\n",
              "    }\n",
              "</style>\n",
              "<table border=\"1\" class=\"dataframe\">\n",
              "  <thead>\n",
              "    <tr style=\"text-align: right;\">\n",
              "      <th></th>\n",
              "      <th>Customers</th>\n",
              "      <th>Sales</th>\n",
              "    </tr>\n",
              "  </thead>\n",
              "  <tbody>\n",
              "    <tr>\n",
              "      <th>0</th>\n",
              "      <td>127</td>\n",
              "      <td>3505</td>\n",
              "    </tr>\n",
              "    <tr>\n",
              "      <th>1</th>\n",
              "      <td>80</td>\n",
              "      <td>2400</td>\n",
              "    </tr>\n",
              "    <tr>\n",
              "      <th>2</th>\n",
              "      <td>105</td>\n",
              "      <td>3027</td>\n",
              "    </tr>\n",
              "    <tr>\n",
              "      <th>3</th>\n",
              "      <td>92</td>\n",
              "      <td>2798</td>\n",
              "    </tr>\n",
              "    <tr>\n",
              "      <th>4</th>\n",
              "      <td>120</td>\n",
              "      <td>3700</td>\n",
              "    </tr>\n",
              "    <tr>\n",
              "      <th>5</th>\n",
              "      <td>115</td>\n",
              "      <td>3250</td>\n",
              "    </tr>\n",
              "    <tr>\n",
              "      <th>6</th>\n",
              "      <td>93</td>\n",
              "      <td>2689</td>\n",
              "    </tr>\n",
              "  </tbody>\n",
              "</table>\n",
              "</div>"
            ],
            "text/plain": [
              "   Customers  Sales\n",
              "0        127   3505\n",
              "1         80   2400\n",
              "2        105   3027\n",
              "3         92   2798\n",
              "4        120   3700\n",
              "5        115   3250\n",
              "6         93   2689"
            ]
          },
          "metadata": {
            "tags": []
          },
          "execution_count": 69
        }
      ]
    },
    {
      "cell_type": "code",
      "metadata": {
        "id": "TrGFgCHeXvV6",
        "colab_type": "code",
        "colab": {
          "base_uri": "https://localhost:8080/",
          "height": 107
        },
        "outputId": "2454779f-579c-456e-e511-be784a9b1ecc"
      },
      "source": [
        "#finding the covariance of the dataframe\n",
        "df_cov = df.cov()\n",
        "df_cov"
      ],
      "execution_count": 70,
      "outputs": [
        {
          "output_type": "execute_result",
          "data": {
            "text/html": [
              "<div>\n",
              "<style scoped>\n",
              "    .dataframe tbody tr th:only-of-type {\n",
              "        vertical-align: middle;\n",
              "    }\n",
              "\n",
              "    .dataframe tbody tr th {\n",
              "        vertical-align: top;\n",
              "    }\n",
              "\n",
              "    .dataframe thead th {\n",
              "        text-align: right;\n",
              "    }\n",
              "</style>\n",
              "<table border=\"1\" class=\"dataframe\">\n",
              "  <thead>\n",
              "    <tr style=\"text-align: right;\">\n",
              "      <th></th>\n",
              "      <th>Customers</th>\n",
              "      <th>Sales</th>\n",
              "    </tr>\n",
              "  </thead>\n",
              "  <tbody>\n",
              "    <tr>\n",
              "      <th>Customers</th>\n",
              "      <td>290.952381</td>\n",
              "      <td>7604.357143</td>\n",
              "    </tr>\n",
              "    <tr>\n",
              "      <th>Sales</th>\n",
              "      <td>7604.357143</td>\n",
              "      <td>214387.904762</td>\n",
              "    </tr>\n",
              "  </tbody>\n",
              "</table>\n",
              "</div>"
            ],
            "text/plain": [
              "             Customers          Sales\n",
              "Customers   290.952381    7604.357143\n",
              "Sales      7604.357143  214387.904762"
            ]
          },
          "metadata": {
            "tags": []
          },
          "execution_count": 70
        }
      ]
    },
    {
      "cell_type": "markdown",
      "metadata": {
        "id": "J9SbUY9mt66I",
        "colab_type": "text"
      },
      "source": [
        "## 1.3 Find the standard deviation of customers who entered the store last week. Then, use the standard deviations of both sales and customers to standardize the covariance to find the correlation coefficient that summarizes the relationship between sales and customers. (You may use library functions to check your work.)"
      ]
    },
    {
      "cell_type": "code",
      "metadata": {
        "id": "vFJms2YRrKhY",
        "colab_type": "code",
        "colab": {
          "base_uri": "https://localhost:8080/",
          "height": 52
        },
        "outputId": "8d25c693-439f-4eb7-8969-7f11da4ee0ed"
      },
      "source": [
        "cust_lw = [127, 80, 105, 92, 120, 115, 93]\n",
        "sales =  [3505, 2400, 3027, 2798, 3700, 3250, 2689]\n",
        "#expecting correlation coefficient close to 1\n",
        "\n",
        "#mean\n",
        "cust_mean = sum(cust_lw)/len(cust_lw)\n",
        "\n",
        "#comprehensive list variance function\n",
        "cust_var = sum([(ii-cust_mean)**2/len(cust_lw) for ii in cust_lw])\n",
        "\n",
        "#standard deviation\n",
        "cust_std_dev = cust_var**0.5\n",
        "\n",
        "print('The standard deviation of customers who entered the store last week was: ', round(cust_std_dev,3),'.')\n",
        "\n",
        "#finding the correlation coefficient\n",
        "#breaking the code down\n",
        "#lets grab the sales/customers covariance relationship\n",
        "#grabbing cov(a,b)\n",
        "df_cov.iloc[0]['Customers'] #this grabs the 0th number from the \"Customers\" column\n",
        "sales_std_dev**cust_std_dev #this multiplies the two std devs \n",
        "\n",
        "r = (df_cov.iloc[0]['Customers'])/(sales_std_dev*cust_std_dev) #this is the formula \n",
        "print('The correlation coefficient between sales and customers from last week is: ', r,'.')"
      ],
      "execution_count": 64,
      "outputs": [
        {
          "output_type": "stream",
          "text": [
            "The standard deviation of customers who entered the store last week was:  15.792 .\n",
            "The correlation coefficient between sales and customers from last week is:  1.123306307450706 .\n"
          ],
          "name": "stdout"
        }
      ]
    },
    {
      "cell_type": "code",
      "metadata": {
        "id": "nv-YbC48huq0",
        "colab_type": "code",
        "colab": {
          "base_uri": "https://localhost:8080/",
          "height": 34
        },
        "outputId": "2444a76e-7a3c-43d9-9d37-45e58b010e81"
      },
      "source": [
        "#check\n",
        "sales_std_dev"
      ],
      "execution_count": 60,
      "outputs": [
        {
          "output_type": "execute_result",
          "data": {
            "text/plain": [
              "428.67360686714756"
            ]
          },
          "metadata": {
            "tags": []
          },
          "execution_count": 60
        }
      ]
    },
    {
      "cell_type": "code",
      "metadata": {
        "id": "0CZlLUQbhwXH",
        "colab_type": "code",
        "colab": {
          "base_uri": "https://localhost:8080/",
          "height": 34
        },
        "outputId": "6c0a1dcc-00e5-40ee-917b-3e965333e9db"
      },
      "source": [
        "#check\n",
        "cust_std_dev"
      ],
      "execution_count": 61,
      "outputs": [
        {
          "output_type": "execute_result",
          "data": {
            "text/plain": [
              "15.792015549069118"
            ]
          },
          "metadata": {
            "tags": []
          },
          "execution_count": 61
        }
      ]
    },
    {
      "cell_type": "code",
      "metadata": {
        "id": "6dPirE0kh4kV",
        "colab_type": "code",
        "colab": {
          "base_uri": "https://localhost:8080/",
          "height": 34
        },
        "outputId": "93f9f21d-7ad5-4717-896f-28c0e8cc7339"
      },
      "source": [
        "#check\n",
        "sales_std_dev*cust_std_dev"
      ],
      "execution_count": 67,
      "outputs": [
        {
          "output_type": "execute_result",
          "data": {
            "text/plain": [
              "6769.620265121536"
            ]
          },
          "metadata": {
            "tags": []
          },
          "execution_count": 67
        }
      ]
    },
    {
      "cell_type": "code",
      "metadata": {
        "id": "bTp5LX4Xe8dv",
        "colab_type": "code",
        "colab": {
          "base_uri": "https://localhost:8080/",
          "height": 107
        },
        "outputId": "14db9d9b-9fae-4a34-99db-8fa7b0a1ea70"
      },
      "source": [
        "#double check\n",
        "df.corr() #hmm, above formula is wrong?"
      ],
      "execution_count": 50,
      "outputs": [
        {
          "output_type": "execute_result",
          "data": {
            "text/html": [
              "<div>\n",
              "<style scoped>\n",
              "    .dataframe tbody tr th:only-of-type {\n",
              "        vertical-align: middle;\n",
              "    }\n",
              "\n",
              "    .dataframe tbody tr th {\n",
              "        vertical-align: top;\n",
              "    }\n",
              "\n",
              "    .dataframe thead th {\n",
              "        text-align: right;\n",
              "    }\n",
              "</style>\n",
              "<table border=\"1\" class=\"dataframe\">\n",
              "  <thead>\n",
              "    <tr style=\"text-align: right;\">\n",
              "      <th></th>\n",
              "      <th>Sales</th>\n",
              "      <th>Customers</th>\n",
              "    </tr>\n",
              "  </thead>\n",
              "  <tbody>\n",
              "    <tr>\n",
              "      <th>Sales</th>\n",
              "      <td>1.000000</td>\n",
              "      <td>0.962834</td>\n",
              "    </tr>\n",
              "    <tr>\n",
              "      <th>Customers</th>\n",
              "      <td>0.962834</td>\n",
              "      <td>1.000000</td>\n",
              "    </tr>\n",
              "  </tbody>\n",
              "</table>\n",
              "</div>"
            ],
            "text/plain": [
              "              Sales  Customers\n",
              "Sales      1.000000   0.962834\n",
              "Customers  0.962834   1.000000"
            ]
          },
          "metadata": {
            "tags": []
          },
          "execution_count": 50
        }
      ]
    },
    {
      "cell_type": "markdown",
      "metadata": {
        "id": "IbZVf7nmujPJ",
        "colab_type": "text"
      },
      "source": [
        "## 1.4 Use pandas to import a cleaned version of the titanic dataset from the following link: [Titanic Dataset](https://raw.githubusercontent.com/Geoyi/Cleaning-Titanic-Data/master/titanic_clean.csv)\n",
        "\n",
        "## Calculate the variance-covariance matrix and correlation matrix for the titanic dataset's numeric columns. (you can encode some of the categorical variables and include them as a stretch goal if you finish early)"
      ]
    },
    {
      "cell_type": "code",
      "metadata": {
        "id": "0TWgUIiaCFzq",
        "colab_type": "code",
        "colab": {
          "base_uri": "https://localhost:8080/",
          "height": 317
        },
        "outputId": "437c78c0-c5b2-46db-e246-3c6225f76d37"
      },
      "source": [
        "df_titanic = pd.read_csv('https://raw.githubusercontent.com/Geoyi/Cleaning-Titanic-Data/master/titanic_clean.csv')\n",
        "#covariance\n",
        "df_titanic.cov()"
      ],
      "execution_count": 73,
      "outputs": [
        {
          "output_type": "execute_result",
          "data": {
            "text/html": [
              "<div>\n",
              "<style scoped>\n",
              "    .dataframe tbody tr th:only-of-type {\n",
              "        vertical-align: middle;\n",
              "    }\n",
              "\n",
              "    .dataframe tbody tr th {\n",
              "        vertical-align: top;\n",
              "    }\n",
              "\n",
              "    .dataframe thead th {\n",
              "        text-align: right;\n",
              "    }\n",
              "</style>\n",
              "<table border=\"1\" class=\"dataframe\">\n",
              "  <thead>\n",
              "    <tr style=\"text-align: right;\">\n",
              "      <th></th>\n",
              "      <th>Unnamed: 0</th>\n",
              "      <th>pclass</th>\n",
              "      <th>survived</th>\n",
              "      <th>age</th>\n",
              "      <th>sibsp</th>\n",
              "      <th>parch</th>\n",
              "      <th>fare</th>\n",
              "      <th>body</th>\n",
              "      <th>has_cabin_number</th>\n",
              "    </tr>\n",
              "  </thead>\n",
              "  <tbody>\n",
              "    <tr>\n",
              "      <th>Unnamed: 0</th>\n",
              "      <td>143117.500000</td>\n",
              "      <td>284.357034</td>\n",
              "      <td>-53.967125</td>\n",
              "      <td>-1442.939812</td>\n",
              "      <td>25.828746</td>\n",
              "      <td>1.172783</td>\n",
              "      <td>-9410.735123</td>\n",
              "      <td>591.579132</td>\n",
              "      <td>-95.438885</td>\n",
              "    </tr>\n",
              "    <tr>\n",
              "      <th>pclass</th>\n",
              "      <td>284.357034</td>\n",
              "      <td>0.701969</td>\n",
              "      <td>-0.127248</td>\n",
              "      <td>-3.954605</td>\n",
              "      <td>0.053090</td>\n",
              "      <td>0.013287</td>\n",
              "      <td>-24.227788</td>\n",
              "      <td>-2.876653</td>\n",
              "      <td>-0.249992</td>\n",
              "    </tr>\n",
              "    <tr>\n",
              "      <th>survived</th>\n",
              "      <td>-53.967125</td>\n",
              "      <td>-0.127248</td>\n",
              "      <td>0.236250</td>\n",
              "      <td>-0.314343</td>\n",
              "      <td>-0.014088</td>\n",
              "      <td>0.034776</td>\n",
              "      <td>6.146023</td>\n",
              "      <td>0.000000</td>\n",
              "      <td>0.061406</td>\n",
              "    </tr>\n",
              "    <tr>\n",
              "      <th>age</th>\n",
              "      <td>-1442.939812</td>\n",
              "      <td>-3.954605</td>\n",
              "      <td>-0.314343</td>\n",
              "      <td>165.850021</td>\n",
              "      <td>-2.559806</td>\n",
              "      <td>-1.459378</td>\n",
              "      <td>114.416613</td>\n",
              "      <td>81.622922</td>\n",
              "      <td>1.463138</td>\n",
              "    </tr>\n",
              "    <tr>\n",
              "      <th>sibsp</th>\n",
              "      <td>25.828746</td>\n",
              "      <td>0.053090</td>\n",
              "      <td>-0.014088</td>\n",
              "      <td>-2.559806</td>\n",
              "      <td>1.085052</td>\n",
              "      <td>0.336833</td>\n",
              "      <td>8.641768</td>\n",
              "      <td>-8.708471</td>\n",
              "      <td>-0.003946</td>\n",
              "    </tr>\n",
              "    <tr>\n",
              "      <th>parch</th>\n",
              "      <td>1.172783</td>\n",
              "      <td>0.013287</td>\n",
              "      <td>0.034776</td>\n",
              "      <td>-1.459378</td>\n",
              "      <td>0.336833</td>\n",
              "      <td>0.749195</td>\n",
              "      <td>9.928031</td>\n",
              "      <td>4.237190</td>\n",
              "      <td>0.013316</td>\n",
              "    </tr>\n",
              "    <tr>\n",
              "      <th>fare</th>\n",
              "      <td>-9410.735123</td>\n",
              "      <td>-24.227788</td>\n",
              "      <td>6.146023</td>\n",
              "      <td>114.416613</td>\n",
              "      <td>8.641768</td>\n",
              "      <td>9.928031</td>\n",
              "      <td>2678.959738</td>\n",
              "      <td>-179.164684</td>\n",
              "      <td>10.976961</td>\n",
              "    </tr>\n",
              "    <tr>\n",
              "      <th>body</th>\n",
              "      <td>591.579132</td>\n",
              "      <td>-2.876653</td>\n",
              "      <td>0.000000</td>\n",
              "      <td>81.622922</td>\n",
              "      <td>-8.708471</td>\n",
              "      <td>4.237190</td>\n",
              "      <td>-179.164684</td>\n",
              "      <td>9544.688567</td>\n",
              "      <td>3.625689</td>\n",
              "    </tr>\n",
              "    <tr>\n",
              "      <th>has_cabin_number</th>\n",
              "      <td>-95.438885</td>\n",
              "      <td>-0.249992</td>\n",
              "      <td>0.061406</td>\n",
              "      <td>1.463138</td>\n",
              "      <td>-0.003946</td>\n",
              "      <td>0.013316</td>\n",
              "      <td>10.976961</td>\n",
              "      <td>3.625689</td>\n",
              "      <td>0.174613</td>\n",
              "    </tr>\n",
              "  </tbody>\n",
              "</table>\n",
              "</div>"
            ],
            "text/plain": [
              "                     Unnamed: 0      pclass  ...         body  has_cabin_number\n",
              "Unnamed: 0        143117.500000  284.357034  ...   591.579132        -95.438885\n",
              "pclass               284.357034    0.701969  ...    -2.876653         -0.249992\n",
              "survived             -53.967125   -0.127248  ...     0.000000          0.061406\n",
              "age                -1442.939812   -3.954605  ...    81.622922          1.463138\n",
              "sibsp                 25.828746    0.053090  ...    -8.708471         -0.003946\n",
              "parch                  1.172783    0.013287  ...     4.237190          0.013316\n",
              "fare               -9410.735123  -24.227788  ...  -179.164684         10.976961\n",
              "body                 591.579132   -2.876653  ...  9544.688567          3.625689\n",
              "has_cabin_number     -95.438885   -0.249992  ...     3.625689          0.174613\n",
              "\n",
              "[9 rows x 9 columns]"
            ]
          },
          "metadata": {
            "tags": []
          },
          "execution_count": 73
        }
      ]
    },
    {
      "cell_type": "code",
      "metadata": {
        "id": "RJXUuHEQj52I",
        "colab_type": "code",
        "colab": {
          "base_uri": "https://localhost:8080/",
          "height": 317
        },
        "outputId": "cf3f440b-3602-4964-ac07-c835d82f6138"
      },
      "source": [
        "#correlation\n",
        "df_titanic.corr()"
      ],
      "execution_count": 74,
      "outputs": [
        {
          "output_type": "execute_result",
          "data": {
            "text/html": [
              "<div>\n",
              "<style scoped>\n",
              "    .dataframe tbody tr th:only-of-type {\n",
              "        vertical-align: middle;\n",
              "    }\n",
              "\n",
              "    .dataframe tbody tr th {\n",
              "        vertical-align: top;\n",
              "    }\n",
              "\n",
              "    .dataframe thead th {\n",
              "        text-align: right;\n",
              "    }\n",
              "</style>\n",
              "<table border=\"1\" class=\"dataframe\">\n",
              "  <thead>\n",
              "    <tr style=\"text-align: right;\">\n",
              "      <th></th>\n",
              "      <th>Unnamed: 0</th>\n",
              "      <th>pclass</th>\n",
              "      <th>survived</th>\n",
              "      <th>age</th>\n",
              "      <th>sibsp</th>\n",
              "      <th>parch</th>\n",
              "      <th>fare</th>\n",
              "      <th>body</th>\n",
              "      <th>has_cabin_number</th>\n",
              "    </tr>\n",
              "  </thead>\n",
              "  <tbody>\n",
              "    <tr>\n",
              "      <th>Unnamed: 0</th>\n",
              "      <td>1.000000</td>\n",
              "      <td>0.897822</td>\n",
              "      <td>-0.293717</td>\n",
              "      <td>-0.296172</td>\n",
              "      <td>0.065594</td>\n",
              "      <td>0.003584</td>\n",
              "      <td>-0.481215</td>\n",
              "      <td>0.015558</td>\n",
              "      <td>-0.603727</td>\n",
              "    </tr>\n",
              "    <tr>\n",
              "      <th>pclass</th>\n",
              "      <td>0.897822</td>\n",
              "      <td>1.000000</td>\n",
              "      <td>-0.312469</td>\n",
              "      <td>-0.366370</td>\n",
              "      <td>0.060832</td>\n",
              "      <td>0.018322</td>\n",
              "      <td>-0.558629</td>\n",
              "      <td>-0.034642</td>\n",
              "      <td>-0.713857</td>\n",
              "    </tr>\n",
              "    <tr>\n",
              "      <th>survived</th>\n",
              "      <td>-0.293717</td>\n",
              "      <td>-0.312469</td>\n",
              "      <td>1.000000</td>\n",
              "      <td>-0.050199</td>\n",
              "      <td>-0.027825</td>\n",
              "      <td>0.082660</td>\n",
              "      <td>0.244265</td>\n",
              "      <td>NaN</td>\n",
              "      <td>0.302250</td>\n",
              "    </tr>\n",
              "    <tr>\n",
              "      <th>age</th>\n",
              "      <td>-0.296172</td>\n",
              "      <td>-0.366370</td>\n",
              "      <td>-0.050199</td>\n",
              "      <td>1.000000</td>\n",
              "      <td>-0.190747</td>\n",
              "      <td>-0.130872</td>\n",
              "      <td>0.171892</td>\n",
              "      <td>0.059059</td>\n",
              "      <td>0.271887</td>\n",
              "    </tr>\n",
              "    <tr>\n",
              "      <th>sibsp</th>\n",
              "      <td>0.065594</td>\n",
              "      <td>0.060832</td>\n",
              "      <td>-0.027825</td>\n",
              "      <td>-0.190747</td>\n",
              "      <td>1.000000</td>\n",
              "      <td>0.373587</td>\n",
              "      <td>0.160238</td>\n",
              "      <td>-0.099961</td>\n",
              "      <td>-0.009064</td>\n",
              "    </tr>\n",
              "    <tr>\n",
              "      <th>parch</th>\n",
              "      <td>0.003584</td>\n",
              "      <td>0.018322</td>\n",
              "      <td>0.082660</td>\n",
              "      <td>-0.130872</td>\n",
              "      <td>0.373587</td>\n",
              "      <td>1.000000</td>\n",
              "      <td>0.221539</td>\n",
              "      <td>0.051099</td>\n",
              "      <td>0.036806</td>\n",
              "    </tr>\n",
              "    <tr>\n",
              "      <th>fare</th>\n",
              "      <td>-0.481215</td>\n",
              "      <td>-0.558629</td>\n",
              "      <td>0.244265</td>\n",
              "      <td>0.171892</td>\n",
              "      <td>0.160238</td>\n",
              "      <td>0.221539</td>\n",
              "      <td>1.000000</td>\n",
              "      <td>-0.043110</td>\n",
              "      <td>0.507253</td>\n",
              "    </tr>\n",
              "    <tr>\n",
              "      <th>body</th>\n",
              "      <td>0.015558</td>\n",
              "      <td>-0.034642</td>\n",
              "      <td>NaN</td>\n",
              "      <td>0.059059</td>\n",
              "      <td>-0.099961</td>\n",
              "      <td>0.051099</td>\n",
              "      <td>-0.043110</td>\n",
              "      <td>1.000000</td>\n",
              "      <td>0.083796</td>\n",
              "    </tr>\n",
              "    <tr>\n",
              "      <th>has_cabin_number</th>\n",
              "      <td>-0.603727</td>\n",
              "      <td>-0.713857</td>\n",
              "      <td>0.302250</td>\n",
              "      <td>0.271887</td>\n",
              "      <td>-0.009064</td>\n",
              "      <td>0.036806</td>\n",
              "      <td>0.507253</td>\n",
              "      <td>0.083796</td>\n",
              "      <td>1.000000</td>\n",
              "    </tr>\n",
              "  </tbody>\n",
              "</table>\n",
              "</div>"
            ],
            "text/plain": [
              "                  Unnamed: 0    pclass  ...      body  has_cabin_number\n",
              "Unnamed: 0          1.000000  0.897822  ...  0.015558         -0.603727\n",
              "pclass              0.897822  1.000000  ... -0.034642         -0.713857\n",
              "survived           -0.293717 -0.312469  ...       NaN          0.302250\n",
              "age                -0.296172 -0.366370  ...  0.059059          0.271887\n",
              "sibsp               0.065594  0.060832  ... -0.099961         -0.009064\n",
              "parch               0.003584  0.018322  ...  0.051099          0.036806\n",
              "fare               -0.481215 -0.558629  ... -0.043110          0.507253\n",
              "body                0.015558 -0.034642  ...  1.000000          0.083796\n",
              "has_cabin_number   -0.603727 -0.713857  ...  0.083796          1.000000\n",
              "\n",
              "[9 rows x 9 columns]"
            ]
          },
          "metadata": {
            "tags": []
          },
          "execution_count": 74
        }
      ]
    },
    {
      "cell_type": "markdown",
      "metadata": {
        "id": "7K0Xfh8MvYkl",
        "colab_type": "text"
      },
      "source": [
        "# Orthogonality"
      ]
    },
    {
      "cell_type": "markdown",
      "metadata": {
        "id": "Pe3eOZ2fvdZ-",
        "colab_type": "text"
      },
      "source": [
        "## 2.1 Plot two vectors that are orthogonal to each other. What is a synonym for orthogonal?"
      ]
    },
    {
      "cell_type": "code",
      "metadata": {
        "id": "YLSBk7hJvvCx",
        "colab_type": "code",
        "colab": {
          "base_uri": "https://localhost:8080/",
          "height": 278
        },
        "outputId": "ddeb99b4-fcb1-4f2a-ee0d-7c709036c54b"
      },
      "source": [
        "#a synonym for orthogonal is perpendicular\n",
        "first = [-5, 5]\n",
        "second = [5, 5]\n",
        "plt.arrow(0,0, first[0], first[1],head_width=.4, head_length=0.4, color ='blue')\n",
        "plt.arrow(0,0, second[0], second[1],head_width=.4, head_length=0.4, color ='black')\n",
        "plt.title(\"Perpendicular Vectors\")\n",
        "plt.xlim(-10,10)          \n",
        "plt.ylim(-5,10)\n",
        "plt.style.use('ggplot')\n",
        "plt.show()"
      ],
      "execution_count": 97,
      "outputs": [
        {
          "output_type": "display_data",
          "data": {
            "image/png": "[encoded data removed]",
            "text/plain": [
              "<Figure size 432x288 with 1 Axes>"
            ]
          },
          "metadata": {
            "tags": []
          }
        }
      ]
    },
    {
      "cell_type": "markdown",
      "metadata": {
        "id": "7AS4V1Nhvvxz",
        "colab_type": "text"
      },
      "source": [
        "## 2.2 Are the following vectors orthogonal? Why or why not?\n",
        "\n",
        "\\begin{align}\n",
        "a = \\begin{bmatrix} -5 \\\\ 3 \\\\ 7 \\end{bmatrix}\n",
        "\\qquad\n",
        "b = \\begin{bmatrix} 6 \\\\ -8 \\\\ 2 \\end{bmatrix}\n",
        "\\end{align}"
      ]
    },
    {
      "cell_type": "code",
      "metadata": {
        "id": "F_-y54YSz47k",
        "colab_type": "code",
        "colab": {
          "base_uri": "https://localhost:8080/",
          "height": 70
        },
        "outputId": "91937663-251f-4e02-cc04-397f2cc5a128"
      },
      "source": [
        "a = np.matrix('-5,3,7')\n",
        "b = np.matrix('6,-8,2').T\n",
        "print('Numpy matrix matmul function gives: ', np.matmul(a,b)) #not\n",
        "\n",
        "#check\n",
        "ortho = (-5*6) + (3*-8) + (7*2)\n",
        "print('Hard code check gives: ', ortho)\n",
        "print('Not orthogonal because the dot product does not equal zero.')"
      ],
      "execution_count": 121,
      "outputs": [
        {
          "output_type": "stream",
          "text": [
            "Numpy matrix matmul function gives:  [[-40]]\n",
            "Hard code check gives:  -40\n",
            "Not orthogonal because the dot product does not equal zero.\n"
          ],
          "name": "stdout"
        }
      ]
    },
    {
      "cell_type": "markdown",
      "metadata": {
        "id": "MiNjyqiEz5SG",
        "colab_type": "text"
      },
      "source": [
        "## 2.3 Compute the following values: What do these quantities have in common?\n",
        "\n",
        "## What is $||c||^2$? \n",
        "\n",
        "## What is $c \\cdot c$? \n",
        "\n",
        "## What is $c^{T}c$?\n",
        "\n",
        "\\begin{align}\n",
        "c = \\begin{bmatrix} 2 & -15 & 6 & 20 \\end{bmatrix}\n",
        "\\end{align}"
      ]
    },
    {
      "cell_type": "code",
      "metadata": {
        "id": "uDL-QNoKqg68",
        "colab_type": "code",
        "colab": {
          "base_uri": "https://localhost:8080/",
          "height": 34
        },
        "outputId": "7f4052ee-bca3-423f-8cca-3d0f1964025d"
      },
      "source": [
        "2**2"
      ],
      "execution_count": 131,
      "outputs": [
        {
          "output_type": "execute_result",
          "data": {
            "text/plain": [
              "4"
            ]
          },
          "metadata": {
            "tags": []
          },
          "execution_count": 131
        }
      ]
    },
    {
      "cell_type": "code",
      "metadata": {
        "id": "IlV_uaYK1EQB",
        "colab_type": "code",
        "colab": {
          "base_uri": "https://localhost:8080/",
          "height": 123
        },
        "outputId": "d47ac6f6-3f7d-4049-b318-7deb775a78d2"
      },
      "source": [
        "#find the norm aka magnitude squared\n",
        "from scipy import linalg\n",
        "\n",
        "c = np.array([2,-15,6,20])\n",
        "\n",
        "#tranpose with np array\n",
        "cT_arr = np.transpose(c)\n",
        "\n",
        "#transpose with np matrix\n",
        "cT = np.matrix('2,-15,6,20').T\n",
        "\n",
        "#magnitude\n",
        "c_norm = linalg.norm(c)**2\n",
        "\n",
        "#c = c**2 #check\n",
        "\n",
        "#printing magnitude\n",
        "print(c_norm) \n",
        "\n",
        "#printing c * c\n",
        "print(c*c)\n",
        "\n",
        "#printing transpose of C times C\n",
        "print(cT*c)"
      ],
      "execution_count": 154,
      "outputs": [
        {
          "output_type": "stream",
          "text": [
            "665.0\n",
            "[  4 225  36 400]\n",
            "[[   4  -30   12   40]\n",
            " [ -30  225  -90 -300]\n",
            " [  12  -90   36  120]\n",
            " [  40 -300  120  400]]\n"
          ],
          "name": "stdout"
        }
      ]
    },
    {
      "cell_type": "code",
      "metadata": {
        "id": "zADWKH-FwIM3",
        "colab_type": "code",
        "colab": {}
      },
      "source": [
        "#they all have the number 665 in common"
      ],
      "execution_count": 0,
      "outputs": []
    },
    {
      "cell_type": "markdown",
      "metadata": {
        "id": "MK_TpWqk1Evk",
        "colab_type": "text"
      },
      "source": [
        "# Unit Vectors"
      ]
    },
    {
      "cell_type": "markdown",
      "metadata": {
        "id": "Kpit6WWO1b8l",
        "colab_type": "text"
      },
      "source": [
        "## 3.1 Using Latex, write the following vectors as a linear combination of scalars and unit vectors:\n",
        "\n",
        "\\begin{align}\n",
        "d = \\begin{bmatrix} 7 \\\\ 12 \\end{bmatrix}\n",
        "\\qquad\n",
        "e = \\begin{bmatrix} 2 \\\\ 11 \\\\ -8  \\end{bmatrix}\n",
        "\\end{align}"
      ]
    },
    {
      "cell_type": "markdown",
      "metadata": {
        "id": "oBCj1sDW2ouC",
        "colab_type": "text"
      },
      "source": [
        "##Answer\n",
        "\\begin{align}\n",
        "d = \\begin{bmatrix} 7 \\\\ 12 \\end{bmatrix} = 7\\begin{bmatrix} 1 \\\\ 0 \\end{bmatrix} + 12\\begin{bmatrix} 0 \\\\ 1 \\end{bmatrix} = 7\\hat{i} + 12\\hat{j}\n",
        "\\end{align}\n",
        "\n",
        "&\n",
        "\n",
        "\\begin{align}\n",
        "e = \\begin{bmatrix} 2 \\\\ 11 \\\\ -8 \\end{bmatrix} = 2\\begin{bmatrix} 1 \\\\ 0 \\\\ 0\\end{bmatrix} + 11\\begin{bmatrix} 0 \\\\ 1 \\\\ 0\\end{bmatrix} - 8\\begin{bmatrix} 0 \\\\ 0 \\\\ 1 \\end{bmatrix} = 2\\hat{i} + 11\\hat{j} - 8\\hat{k}\n",
        "\\end{align}\n"
      ]
    },
    {
      "cell_type": "markdown",
      "metadata": {
        "id": "dAdUQuep1_yJ",
        "colab_type": "text"
      },
      "source": [
        "## 3.2 Turn vector $f$ into a unit vector:\n",
        "\n",
        "\\begin{align}\n",
        "f = \\begin{bmatrix} 4 & 12 & 11 & 9 & 2 \\end{bmatrix}\n",
        "\\end{align}"
      ]
    },
    {
      "cell_type": "code",
      "metadata": {
        "id": "I3W8ZiHR1_Fa",
        "colab_type": "code",
        "colab": {
          "base_uri": "https://localhost:8080/",
          "height": 34
        },
        "outputId": "18df046a-e7d7-45d2-ca34-b245864ec2dc"
      },
      "source": [
        "#turning f into a unit vector\n",
        "f = np.matrix('4,12,11,9,2')\n",
        "f_norm = linalg.norm(f)\n",
        "f_unit_vector = f/f_norm\n",
        "print('The unit vector of f is = ', f_unit_vector, '.')"
      ],
      "execution_count": 167,
      "outputs": [
        {
          "output_type": "stream",
          "text": [
            "The unit vector of f is =  [[0.20908335 0.62725005 0.57497921 0.47043754 0.10454167]] .\n"
          ],
          "name": "stdout"
        }
      ]
    },
    {
      "cell_type": "markdown",
      "metadata": {
        "id": "o39UyP-I5lpP",
        "colab_type": "text"
      },
      "source": [
        "# Linear Independence / Dependence "
      ]
    },
    {
      "cell_type": "markdown",
      "metadata": {
        "id": "ajfBqYe45sT5",
        "colab_type": "text"
      },
      "source": [
        "## 4.1 Plot two vectors that are linearly dependent and two vectors that are linearly independent (bonus points if done in $\\mathbb{R}^3$)."
      ]
    },
    {
      "cell_type": "code",
      "metadata": {
        "id": "ZPzq5i672hji",
        "colab_type": "code",
        "colab": {
          "base_uri": "https://localhost:8080/",
          "height": 278
        },
        "outputId": "5864e7f2-8669-48a1-8626-2d122d168e7b"
      },
      "source": [
        "lin_1 = [5, 3]\n",
        "#scaled\n",
        "lin_2 = np.multiply(3, lin_1)\n",
        "\n",
        "#plot\n",
        "plt.arrow(0,0, lin_1[0], lin_1[1],head_width=.4, head_length=0.4, color ='blue')\n",
        "plt.arrow(0,0, lin_2[0], lin_2[1],head_width=.4, head_length=0.4, color ='black')\n",
        "plt.title(\"Linearly Dependent Vectors\")\n",
        "plt.xlim(-10,30)          \n",
        "plt.ylim(-5,10)\n",
        "plt.style.use('ggplot')\n",
        "plt.show()"
      ],
      "execution_count": 176,
      "outputs": [
        {
          "output_type": "display_data",
          "data": {
            "image/png": "[encoded data removed]",
            "text/plain": [
              "<Figure size 432x288 with 1 Axes>"
            ]
          },
          "metadata": {
            "tags": []
          }
        }
      ]
    },
    {
      "cell_type": "code",
      "metadata": {
        "id": "dsRqVSh62hcG",
        "colab_type": "code",
        "colab": {
          "base_uri": "https://localhost:8080/",
          "height": 278
        },
        "outputId": "6e69927f-613d-4ba1-a3bf-749a018fbd22"
      },
      "source": [
        "lin_1 = [5, 3,7]\n",
        "#scaled\n",
        "lin_2 = [10, 20, 25]\n",
        "\n",
        "#plot\n",
        "plt.arrow(0,0, lin_1[0], lin_1[1],head_width=.4, head_length=0.4, color ='blue')\n",
        "plt.arrow(0,0, lin_2[0], lin_2[1],head_width=.4, head_length=0.4, color ='black')\n",
        "plt.title(\"Linearly Independent Vectors\")\n",
        "plt.xlim(-10,30)          \n",
        "plt.ylim(-5,30)\n",
        "plt.style.use('ggplot')\n",
        "plt.show()"
      ],
      "execution_count": 185,
      "outputs": [
        {
          "output_type": "display_data",
          "data": {
            "image/png": "[encoded data removed]",
            "text/plain": [
              "<Figure size 432x288 with 1 Axes>"
            ]
          },
          "metadata": {
            "tags": []
          }
        }
      ]
    },
    {
      "cell_type": "code",
      "metadata": {
        "id": "88INVPEc2hMr",
        "colab_type": "code",
        "colab": {
          "base_uri": "https://localhost:8080/",
          "height": 247
        },
        "outputId": "0e8e1bb4-8a6f-4be4-8212-c86e658b2ea5"
      },
      "source": [
        "#r3\n",
        "\n",
        "from mpl_toolkits.mplot3d import Axes3D\n",
        "\n",
        "vectors = np.array([[-30,72,12,-100, 50, 20],[20,43,10,25,40, -80]])\n",
        "\n",
        "X, Y, Z, U, V, W = zip(*vectors)\n",
        "fig = plt.figure()\n",
        "ax = fig.add_subplot(111, projection='3d')\n",
        "ax.quiver(X, Y, Z, U, V, W, length=1)\n",
        "ax.set_xlim([-100, 100])\n",
        "ax.set_ylim([-100, 100])\n",
        "ax.set_zlim([-100, 100])\n",
        "ax.set_xlabel('X')\n",
        "ax.set_ylabel('Y')\n",
        "ax.set_zlabel('Z')\n",
        "plt.style.use('ggplot')\n",
        "plt.title(\"R^3 Linearly Independent Vectors\")\n",
        "plt.show()"
      ],
      "execution_count": 210,
      "outputs": [
        {
          "output_type": "display_data",
          "data": {
            "image/png": "[encoded data removed]",
            "text/plain": [
              "<Figure size 432x288 with 1 Axes>"
            ]
          },
          "metadata": {
            "tags": []
          }
        }
      ]
    },
    {
      "cell_type": "markdown",
      "metadata": {
        "id": "TrJ0MT_n3SvO",
        "colab_type": "text"
      },
      "source": [
        "# Span"
      ]
    },
    {
      "cell_type": "markdown",
      "metadata": {
        "id": "86iXLzwM2z8l",
        "colab_type": "text"
      },
      "source": [
        "## 5.1 What is the span of the following vectors?\n",
        "\n",
        "\\begin{align}\n",
        "g = \\begin{bmatrix} 1 & 2 \\end{bmatrix}\n",
        "\\qquad\n",
        "h = \\begin{bmatrix} 4 & 8 \\end{bmatrix}\n",
        "\\end{align}"
      ]
    },
    {
      "cell_type": "code",
      "metadata": {
        "id": "G2LK2RWL39Q4",
        "colab_type": "code",
        "colab": {
          "base_uri": "https://localhost:8080/",
          "height": 278
        },
        "outputId": "4f313708-63bc-4fbf-b653-66bcc5757d15"
      },
      "source": [
        "#span\n",
        "g = [1,2]\n",
        "#scaled\n",
        "h = [4,8]\n",
        "\n",
        "#plot\n",
        "plt.arrow(0,0, g[0], g[1],head_width=.2, head_length=0.2, color ='blue')\n",
        "plt.arrow(0,0, h[0], h[1],head_width=.2, head_length=0.2, color ='black')\n",
        "plt.title(\"What is the Span?\")\n",
        "plt.xlim(0,10)          \n",
        "plt.ylim(0,10)\n",
        "plt.style.use('ggplot')\n",
        "plt.show()\n",
        "\n",
        "#the span is linearly dependent and 2 dimensional"
      ],
      "execution_count": 215,
      "outputs": [
        {
          "output_type": "display_data",
          "data": {
            "image/png": "[encoded data removed]",
            "text/plain": [
              "<Figure size 432x288 with 1 Axes>"
            ]
          },
          "metadata": {
            "tags": []
          }
        }
      ]
    },
    {
      "cell_type": "markdown",
      "metadata": {
        "id": "l1deylUj4IHH",
        "colab_type": "text"
      },
      "source": [
        "## 5.2 What is the span of $\\{l, m, n\\}$?\n",
        "\n",
        "\\begin{align}\n",
        "l = \\begin{bmatrix} 1 & 2 & 3 \\end{bmatrix}\n",
        "\\qquad\n",
        "m = \\begin{bmatrix} -1 & 0 & 7 \\end{bmatrix}\n",
        "\\qquad\n",
        "n = \\begin{bmatrix} 4 & 8  & 2\\end{bmatrix}\n",
        "\\end{align}"
      ]
    },
    {
      "cell_type": "code",
      "metadata": {
        "id": "p1i_ueD25ZcP",
        "colab_type": "code",
        "colab": {
          "base_uri": "https://localhost:8080/",
          "height": 278
        },
        "outputId": "e9671d6e-a356-4e8e-f8a2-e88779db39cd"
      },
      "source": [
        "#span\n",
        "l = [1,2,3]\n",
        "#scaled\n",
        "m = [-1,0,7]\n",
        "\n",
        "n = [4,8,2]\n",
        "\n",
        "#plot\n",
        "plt.arrow(0, l[0], l[1],l[2],head_width=.2, head_length=0.2, color ='blue')\n",
        "plt.arrow(0, m[0], m[1],m[2],head_width=.2, head_length=0.2, color ='black')\n",
        "plt.arrow(0, n[0], n[1],n[2],head_width=.2, head_length=0.2, color ='black')\n",
        "plt.title(\"What is the Span?\")\n",
        "plt.xlim(-10,10)          \n",
        "plt.ylim(-10,10)\n",
        "plt.style.use('ggplot')\n",
        "plt.show()\n",
        "\n",
        "#the span is linearly independent and three dimensional"
      ],
      "execution_count": 218,
      "outputs": [
        {
          "output_type": "display_data",
          "data": {
            "image/png": "[encoded data removed]",
            "text/plain": [
              "<Figure size 432x288 with 1 Axes>"
            ]
          },
          "metadata": {
            "tags": []
          }
        }
      ]
    },
    {
      "cell_type": "code",
      "metadata": {
        "id": "sRIRNAr-PfhZ",
        "colab_type": "code",
        "colab": {
          "base_uri": "https://localhost:8080/",
          "height": 247
        },
        "outputId": "b8c840cf-5163-4688-c6c0-d2c13b64593a"
      },
      "source": [
        "#graphs are not the same\n",
        "from mpl_toolkits.mplot3d import Axes3D\n",
        "\n",
        "vectors = np.array([[0,0,0,1, 2, 3],[0,0,0,-1,0, 7],[0,0,0,4,8,2]])\n",
        "\n",
        "X, Y, Z, U, V, W = zip(*vectors)\n",
        "fig = plt.figure()\n",
        "ax = fig.add_subplot(111, projection='3d')\n",
        "ax.quiver(X, Y, Z, U, V, W, length=1)\n",
        "ax.set_xlim([-5, 10])\n",
        "ax.set_ylim([-5, 10])\n",
        "ax.set_zlim([-5, 10])\n",
        "ax.set_xlabel('X')\n",
        "ax.set_ylabel('Y')\n",
        "ax.set_zlabel('Z')\n",
        "plt.style.use('ggplot')\n",
        "plt.title(\"Span of Vectors 3D\")\n",
        "plt.show()"
      ],
      "execution_count": 239,
      "outputs": [
        {
          "output_type": "display_data",
          "data": {
            "image/png": "[encoded data removed]",
            "text/plain": [
              "<Figure size 432x288 with 1 Axes>"
            ]
          },
          "metadata": {
            "tags": []
          }
        }
      ]
    },
    {
      "cell_type": "markdown",
      "metadata": {
        "id": "IBqe7X1732kX",
        "colab_type": "text"
      },
      "source": [
        "# Basis"
      ]
    },
    {
      "cell_type": "markdown",
      "metadata": {
        "id": "YeUZVHRM6PpT",
        "colab_type": "text"
      },
      "source": [
        "## 6.1 Graph two vectors that form a basis for $\\mathbb{R}^2$\n",
        "\n"
      ]
    },
    {
      "cell_type": "code",
      "metadata": {
        "id": "utvF3Pkt8NP6",
        "colab_type": "code",
        "colab": {
          "base_uri": "https://localhost:8080/",
          "height": 278
        },
        "outputId": "b66b8f92-8ca3-4f06-992b-5c259e480133"
      },
      "source": [
        "basis_1 = [-7, 5]\n",
        "basis_2 = [9, 7]\n",
        "plt.arrow(0,0, basis_1[0], basis_2[1],head_width=.4, head_length=0.4, color ='blue')\n",
        "plt.arrow(0,0, basis_2[0], basis_2[1],head_width=.4, head_length=0.4, color ='black')\n",
        "plt.title(\"Basis for R^2 or 2 Dimensions\")\n",
        "plt.xlim(-10,10)          \n",
        "plt.ylim(-5,10)\n",
        "plt.style.use('ggplot')\n",
        "plt.show()"
      ],
      "execution_count": 250,
      "outputs": [
        {
          "output_type": "display_data",
          "data": {
            "image/png": "[encoded data removed]",
            "text/plain": [
              "<Figure size 432x288 with 1 Axes>"
            ]
          },
          "metadata": {
            "tags": []
          }
        }
      ]
    },
    {
      "cell_type": "markdown",
      "metadata": {
        "id": "20yPFBDUxxnS",
        "colab_type": "text"
      },
      "source": [
        "## 6.2 What does it mean to form a basis?"
      ]
    },
    {
      "cell_type": "markdown",
      "metadata": {
        "id": "3w4tEayT8M0o",
        "colab_type": "text"
      },
      "source": [
        "**Forming a basis means creating a vector space by creating linearly independent vectors, that form a \"basis\" in multiple dimensions.** "
      ]
    },
    {
      "cell_type": "markdown",
      "metadata": {
        "id": "EHmUxbcY6vD3",
        "colab_type": "text"
      },
      "source": [
        "# Rank"
      ]
    },
    {
      "cell_type": "markdown",
      "metadata": {
        "id": "IpJwt9kw6v8U",
        "colab_type": "text"
      },
      "source": [
        "## 7.1 What is the Rank of P?\n",
        "\n",
        "\\begin{align}\n",
        "P = \\begin{bmatrix} \n",
        "1 & 2 & 3 \\\\\n",
        " -1 & 0 & 7 \\\\\n",
        "4 & 8  & 2\n",
        "\\end{bmatrix}\n",
        "\\end{align}"
      ]
    },
    {
      "cell_type": "code",
      "metadata": {
        "id": "lSFCyYxSTMCL",
        "colab_type": "code",
        "colab": {
          "base_uri": "https://localhost:8080/",
          "height": 123
        },
        "outputId": "5e721a6f-3f85-4d10-dda6-2ae012883cf3"
      },
      "source": [
        "from numpy.linalg import matrix_rank\n",
        "\n",
        "p = np.matrix('1,2,3;-1,0,7;4,8,2')\n",
        "\n",
        "#matrix_rank(p)\n",
        "\n",
        "print('The Rank of the matrix \\n', p , ' \\n\\n is: ', np.linalg.matrix_rank(p),'.')\n"
      ],
      "execution_count": 260,
      "outputs": [
        {
          "output_type": "stream",
          "text": [
            "The Rank of the matrix \n",
            " [[ 1  2  3]\n",
            " [-1  0  7]\n",
            " [ 4  8  2]]  \n",
            "\n",
            " is:  3 .\n"
          ],
          "name": "stdout"
        }
      ]
    },
    {
      "cell_type": "markdown",
      "metadata": {
        "id": "jGqFMBYY7mHD",
        "colab_type": "text"
      },
      "source": [
        "## 7.2 What does the rank of a matrix tell us?"
      ]
    },
    {
      "cell_type": "markdown",
      "metadata": {
        "id": "Vjg1IiCD8nnP",
        "colab_type": "text"
      },
      "source": [
        "**The rank of a matrix tells us the maximum number of linearly independent row or column vectors.**"
      ]
    },
    {
      "cell_type": "markdown",
      "metadata": {
        "id": "0Db2sc_V8QD6",
        "colab_type": "text"
      },
      "source": [
        "# Linear Projections\n",
        "\n",
        "## 8.1 Line $L$ is formed by all of the vectors that can be created by scaling vector $v$ \n",
        "\\begin{align}\n",
        "v = \\begin{bmatrix} 1 & 3 \\end{bmatrix}\n",
        "\\end{align}\n",
        "\n",
        "\\begin{align}\n",
        "w = \\begin{bmatrix} -1 & 2 \\end{bmatrix}\n",
        "\\end{align}\n",
        "\n",
        "## find $proj_{L}(w)$\n",
        "\n",
        "## graph your projected vector to check your work (make sure your axis are square/even)"
      ]
    },
    {
      "cell_type": "code",
      "metadata": {
        "id": "hp5z2WTBCNKx",
        "colab_type": "code",
        "colab": {
          "base_uri": "https://localhost:8080/",
          "height": 278
        },
        "outputId": "5316f2ef-413d-4b9f-d7e7-6ef8b8d2636d"
      },
      "source": [
        "v = np.array([1, 3])\n",
        "w = np.array([-1, 2])\n",
        "\n",
        "#L = cv, or c=((w*v)/(v*v)), L = ((w*v)/(v*v))*v\n",
        "proj_w = ((np.dot(w,v)/(np.dot(v,v))))*v\n",
        "\n",
        "\n",
        "plt.arrow(0,0, v[0], v[1],head_width=.4, head_length=0.4, color ='blue')\n",
        "plt.arrow(0,0, w[0], w[1],head_width=.4, head_length=0.4, color ='black')\n",
        "plt.arrow(0,0, proj_w[0], proj_w[1],head_width=.4, head_length=0.4, color ='red')\n",
        "plt.title(\"Finding Linear Projections\")\n",
        "plt.xlim(-3,3)          \n",
        "plt.ylim(-3,5)\n",
        "plt.style.use('ggplot')\n",
        "plt.show()"
      ],
      "execution_count": 292,
      "outputs": [
        {
          "output_type": "display_data",
          "data": {
            "image/png": "[encoded data removed]",
            "text/plain": [
              "<Figure size 432x288 with 1 Axes>"
            ]
          },
          "metadata": {
            "tags": []
          }
        }
      ]
    },
    {
      "cell_type": "code",
      "metadata": {
        "id": "zOIR6bLKXZmk",
        "colab_type": "code",
        "colab": {
          "base_uri": "https://localhost:8080/",
          "height": 34
        },
        "outputId": "ff6a922b-ac8c-43b1-d665-dc965420bca7"
      },
      "source": [
        "proj_w = ((np.dot(w,v)/(np.dot(v,v))))*v\n",
        "proj_w"
      ],
      "execution_count": 291,
      "outputs": [
        {
          "output_type": "execute_result",
          "data": {
            "text/plain": [
              "array([0.5, 1.5])"
            ]
          },
          "metadata": {
            "tags": []
          },
          "execution_count": 291
        }
      ]
    },
    {
      "cell_type": "code",
      "metadata": {
        "id": "zDAfeZNLZkxq",
        "colab_type": "code",
        "colab": {
          "base_uri": "https://localhost:8080/",
          "height": 34
        },
        "outputId": "b26acc63-73be-4437-c26f-06e7b3dd6f42"
      },
      "source": [
        "np.dot(w,v)"
      ],
      "execution_count": 288,
      "outputs": [
        {
          "output_type": "execute_result",
          "data": {
            "text/plain": [
              "5"
            ]
          },
          "metadata": {
            "tags": []
          },
          "execution_count": 288
        }
      ]
    },
    {
      "cell_type": "code",
      "metadata": {
        "id": "sc_vNJ3wZorp",
        "colab_type": "code",
        "colab": {
          "base_uri": "https://localhost:8080/",
          "height": 34
        },
        "outputId": "d126754c-0823-423d-92c3-6e90f0bc6d66"
      },
      "source": [
        "np.dot(v,v)"
      ],
      "execution_count": 289,
      "outputs": [
        {
          "output_type": "execute_result",
          "data": {
            "text/plain": [
              "10"
            ]
          },
          "metadata": {
            "tags": []
          },
          "execution_count": 289
        }
      ]
    },
    {
      "cell_type": "code",
      "metadata": {
        "id": "czBXFfmSZrtK",
        "colab_type": "code",
        "colab": {
          "base_uri": "https://localhost:8080/",
          "height": 34
        },
        "outputId": "f3600b20-1f27-4732-abab-5b2918578323"
      },
      "source": [
        "(5/10)*v"
      ],
      "execution_count": 290,
      "outputs": [
        {
          "output_type": "execute_result",
          "data": {
            "text/plain": [
              "array([0.5, 1.5])"
            ]
          },
          "metadata": {
            "tags": []
          },
          "execution_count": 290
        }
      ]
    },
    {
      "cell_type": "markdown",
      "metadata": {
        "id": "TKkrPwRM-Oar",
        "colab_type": "text"
      },
      "source": [
        "# Stretch Goal\n",
        "\n",
        "## For vectors that begin at the origin, the coordinates of where the vector ends can be interpreted as regular data points. (See 3Blue1Brown videos about Spans, Basis, etc.)\n",
        "\n",
        "## Write a function that can calculate the linear projection of each point (x,y) (vector) onto the line y=x. run the function and plot the original points in blue and the new projected points on the line y=x in red. \n",
        "\n",
        "## For extra points plot the orthogonal vectors as a dashed line from the original blue points to the projected red points."
      ]
    },
    {
      "cell_type": "code",
      "metadata": {
        "id": "cp52kZra-ykj",
        "colab_type": "code",
        "outputId": "12502200-eafe-4e20-bfb7-2d539c6027cb",
        "colab": {
          "base_uri": "https://localhost:8080/",
          "height": 347
        }
      },
      "source": [
        "import pandas as pd\n",
        "import matplotlib.pyplot as plt\n",
        "\n",
        "# Creating a dataframe for you to work with -Feel free to not use the dataframe if you don't want to.\n",
        "x_values = [1, 4, 7, 3, 9, 4, 5 ]\n",
        "y_values = [4, 2, 5, 0, 8, 2, 8]\n",
        "\n",
        "data = {\"x\": x_values, \"y\": y_values}\n",
        "\n",
        "df = pd.DataFrame(data)\n",
        "\n",
        "df.head()\n",
        "\n",
        "plt.scatter(df.x, df.y)\n",
        "plt.show()"
      ],
      "execution_count": 0,
      "outputs": [
        {
          "output_type": "display_data",
          "data": {
            "image/png": "[encoded data removed]",
            "text/plain": [
              "<matplotlib.figure.Figure at 0x7f787cfb2978>"
            ]
          },
          "metadata": {
            "tags": []
          }
        }
      ]
    },
    {
      "cell_type": "code",
      "metadata": {
        "id": "EZTA6Tj6BGDb",
        "colab_type": "code",
        "colab": {}
      },
      "source": [
        ""
      ],
      "execution_count": 0,
      "outputs": []
    }
  ]
}