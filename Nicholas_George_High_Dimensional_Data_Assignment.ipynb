{
  "nbformat": 4,
  "nbformat_minor": 0,
  "metadata": {
    "colab": {
      "name": "Nicholas George - High Dimensional Data Assignment.ipynb",
      "provenance": [],
      "collapsed_sections": [],
      "include_colab_link": true
    },
    "kernelspec": {
      "name": "python3",
      "display_name": "Python 3"
    }
  },
  "cells": [
    {
      "cell_type": "markdown",
      "metadata": {
        "id": "view-in-github",
        "colab_type": "text"
      },
      "source": [
        "<a href=\"https://colab.research.google.com/github/npgeorge/DS-Unit-1-Sprint-4-Linear-Algebra/blob/master/Nicholas_George_High_Dimensional_Data_Assignment.ipynb\" target=\"_parent\"><img src=\"https://colab.research.google.com/assets/colab-badge.svg\" alt=\"Open In Colab\"/></a>"
      ]
    },
    {
      "cell_type": "markdown",
      "metadata": {
        "id": "7wMWCkE1RZpM",
        "colab_type": "text"
      },
      "source": [
        "# Vertical Line Test"
      ]
    },
    {
      "cell_type": "markdown",
      "metadata": {
        "id": "W0-g7aprRv2j",
        "colab_type": "text"
      },
      "source": [
        "## 1.1 Create two graphs, one that passes the vertical line test and one that does not."
      ]
    },
    {
      "cell_type": "code",
      "metadata": {
        "id": "fIJhCtF6RW_U",
        "colab_type": "code",
        "colab": {
          "base_uri": "https://localhost:8080/",
          "height": 268
        },
        "outputId": "887c82ff-13ad-45a5-8d9b-07c658f8d6ee"
      },
      "source": [
        "import pandas as pd\n",
        "import numpy as np\n",
        "import matplotlib.pyplot as plt\n",
        "\n",
        "pass_x = [0,1,2,3,4,5,6,7,8,9,10]\n",
        "pass_y = [2,4,6,8,10,12,14,16,18,20,22]\n",
        "fail_x = [6,5,6,2,0,-1,-2,-1,0,0,-3,-3,-4,-4,-6,-8,-8,-1,-7,-10,-10,-8,-6,-5,-3,2,2,3,5,9,9,6,9,8]\n",
        "fail_y = [8,6,4,-4,-5,-6,-9,-11,-12,-13,-12,-11,-9,-6,-9,-11,-12,-14,-14,-13,-11,-9,-3,1,3,6,10,11,12,10,9,9,8,7]\n",
        "passing_data = {\"Pass_X\": pass_x, \"Pass_Y\": pass_y}\n",
        "failing_data = {\"Fail_X\": fail_x, \"Fail_Y\": fail_y}\n",
        "pass_df = pd.DataFrame(passing_data);\n",
        "fail_df = pd.DataFrame(failing_data);\n",
        "plt.scatter(pass_df['Pass_X'], pass_df['Pass_Y']);\n",
        "plt.scatter(fail_df['Fail_X'], fail_df['Fail_Y']);"
      ],
      "execution_count": 25,
      "outputs": [
        {
          "output_type": "display_data",
          "data": {
            "image/png": "[encoded data removed]",
            "text/plain": [
              "<Figure size 432x288 with 1 Axes>"
            ]
          },
          "metadata": {
            "tags": []
          }
        }
      ]
    },
    {
      "cell_type": "markdown",
      "metadata": {
        "id": "ckeTKqMgRy7g",
        "colab_type": "text"
      },
      "source": [
        "## 1.2 Why are graphs that don't pass the vertical line test not considered \"functions?\""
      ]
    },
    {
      "cell_type": "markdown",
      "metadata": {
        "id": "Gtl20YeDR6x-",
        "colab_type": "text"
      },
      "source": [
        "They are not considered functions because one input can equal more than one output. "
      ]
    },
    {
      "cell_type": "markdown",
      "metadata": {
        "id": "g21uN62xSKSk",
        "colab_type": "text"
      },
      "source": [
        "# Functions as Relations"
      ]
    },
    {
      "cell_type": "markdown",
      "metadata": {
        "id": "gwkcV-EMSMNd",
        "colab_type": "text"
      },
      "source": [
        "## 2.1 Which of the following relations are functions? Why?\n",
        "\n",
        "\\begin{align}\n",
        "\\text{Relation 1: } \\{(1, 2), (3, 2), (1, 3)\\}\n",
        "\\\\\n",
        "\\text{Relation 2: } \\{(1, 3), (2, 3), (6, 7)\\}\n",
        "\\\\\n",
        "\\text{Relation 3: } \\{(9, 4), (2, 1), (9, 6)\\}\n",
        "\\\\\n",
        "\\text{Relation 4: } \\{(6, 2), (8, 3), (6, 4)\\}\n",
        "\\\\\n",
        "\\text{Relation 5: } \\{(2, 6), (2, 7), (2, 4)\\}\n",
        "\\end{align}"
      ]
    },
    {
      "cell_type": "code",
      "metadata": {
        "id": "zFpUz2yFBuDQ",
        "colab_type": "code",
        "colab": {
          "base_uri": "https://localhost:8080/",
          "height": 268
        },
        "outputId": "bf415ec6-4327-4332-8ed2-36937f40c52a"
      },
      "source": [
        "relations_x = [2,2,2]\n",
        "relations_y= [6,7,4]\n",
        "plt.scatter(relations_x, relations_y);"
      ],
      "execution_count": 26,
      "outputs": [
        {
          "output_type": "display_data",
          "data": {
            "image/png": "[encoded data removed]",
            "text/plain": [
              "<Figure size 432x288 with 1 Axes>"
            ]
          },
          "metadata": {
            "tags": []
          }
        }
      ]
    },
    {
      "cell_type": "markdown",
      "metadata": {
        "id": "ImvI8FTuCZwP",
        "colab_type": "text"
      },
      "source": [
        "##Passing in each relation block to the code above...\n",
        "\n",
        "###A function has one input and exactly one output. \n",
        "\n",
        "Relation 1 is not a function, one input gives two outputs.\n",
        "\n",
        "Relation 2 is a function, all inputs are unique.\n",
        "\n",
        "Relation 3 is not a function, one input gives two outputs.\n",
        "\n",
        "Relation 4 is not a function, one input gives two outputs. \n",
        "\n",
        "Relation 5 is not a function, one input gives threee outputs. \n",
        "\n"
      ]
    },
    {
      "cell_type": "markdown",
      "metadata": {
        "id": "y0U30PrlTAAa",
        "colab_type": "text"
      },
      "source": [
        "# Functions as a mapping between dimensions\n"
      ]
    },
    {
      "cell_type": "markdown",
      "metadata": {
        "id": "pw-OU9qmT5Ua",
        "colab_type": "text"
      },
      "source": [
        "## 3.1 for the following functions what is the dimensionality of the domain (input) and codomain (range/output)?\n",
        "\n",
        "\\begin{align}\n",
        "m(𝑥_1,𝑥_2,𝑥_3)=(x_1+x_2, x_1+x_3, x_2+x_3)\n",
        "\\\\\n",
        "n(𝑥_1,𝑥_2,𝑥_3,𝑥_4)=(x_2^2 + x_3, x_2x_4)\n",
        "\\end{align}"
      ]
    },
    {
      "cell_type": "markdown",
      "metadata": {
        "id": "XdyB5U-cD3A3",
        "colab_type": "text"
      },
      "source": [
        "The first function has 3 inputs and 3 outputs. 3 dimensional input, 3 dimensional output. \n",
        "\n",
        "The second function has 4 inputs and 2 outputs. 4 dimensional input, 2 dimensional output. "
      ]
    },
    {
      "cell_type": "markdown",
      "metadata": {
        "id": "k4tKHjdHUevC",
        "colab_type": "text"
      },
      "source": [
        "## 3.2 Do you think it's possible to create a function that maps from a lower dimensional space to a higher dimensional space? If so, provide an example."
      ]
    },
    {
      "cell_type": "markdown",
      "metadata": {
        "id": "_oJ9WtePEnNV",
        "colab_type": "text"
      },
      "source": [
        "Yes you can. \n",
        "\n",
        "The easiest example I've found to comprehend is \n",
        "\n",
        "𝑓(𝑥)=(𝑥,𝑥)\n",
        "\n",
        "or \n",
        "\n",
        "𝑓(𝑎𝑥) = (𝑎𝑥,𝑎𝑥) = 𝑎(𝑥,𝑥) = 𝑎𝑓(𝑥)\n",
        "\n",
        "𝑓(𝑥+𝑦) = (𝑥+𝑦,𝑥+𝑦) = (𝑥,𝑥) + (𝑦,𝑦)= 𝑓(𝑥) + 𝑓(𝑦)"
      ]
    },
    {
      "cell_type": "markdown",
      "metadata": {
        "id": "2nEWvwVyVWdW",
        "colab_type": "text"
      },
      "source": [
        "# Vector Transformations"
      ]
    },
    {
      "cell_type": "markdown",
      "metadata": {
        "id": "1n0-6FsYVcVk",
        "colab_type": "text"
      },
      "source": [
        "## 4.1 Plug the corresponding unit vectors into each function. Use the output vectors to create a transformation matrix.\n",
        "\n",
        "\\begin{align}\n",
        "p(\\begin{bmatrix}x_1 \\\\ x_2 \\end{bmatrix}) = \\begin{bmatrix} x_1 + 3x_2 \\\\2 x_2 - x_1 \\\\  \\end{bmatrix}\n",
        "\\\\\n",
        "\\\\\n",
        "q(\\begin{bmatrix}x_1 \\\\ x_2 \\\\ x_3\\end{bmatrix}) = \\begin{bmatrix} 4x_1 + x_2 + 2x_3 \\\\2 x_2 - x_1 + 3x_3 \\\\ 5x_1 - 2x_3 + x_2  \\end{bmatrix}\n",
        "\\end{align}"
      ]
    },
    {
      "cell_type": "code",
      "metadata": {
        "id": "U-eOwe9KHGLh",
        "colab_type": "code",
        "colab": {
          "base_uri": "https://localhost:8080/",
          "height": 87
        },
        "outputId": "98d4fad6-cd8e-466f-ff9d-bc5d8f1ea93f"
      },
      "source": [
        "#first\n",
        "#linear transformations as matrix-vector products\n",
        "\n",
        "#lets start with the unit vectors\n",
        "p_x = [1,0]\n",
        "p_y = [0,1]\n",
        "\n",
        "#what happens to all of the x values? lets plug in p_x to find out\n",
        "p_x_output = [\n",
        "              p_x[0]+3*p_x[1], \n",
        "              2*p_x[1]-p_x[0]\n",
        "              ]\n",
        "#what happens to all of the y values? lets plug in p_y to find out\n",
        "p_y_output = [\n",
        "              p_y[0]+3*p_y[1], \n",
        "              2*p_y[1]-p_y[0]\n",
        "              ]\n",
        "print('The X-values change by: ', p_x_output, ' and the Y-values change by: ', p_y_output)\n",
        "\n",
        "print('The combined transformation matrix is: \\n', np.array([[1,-1], [3,2]]))"
      ],
      "execution_count": 47,
      "outputs": [
        {
          "output_type": "stream",
          "text": [
            "The X-values change by:  [1, -1]  and the Y-values change by:  [3, 2]\n",
            "The combined transformation matrix is: \n",
            " [[ 1 -1]\n",
            " [ 3  2]]\n"
          ],
          "name": "stdout"
        }
      ]
    },
    {
      "cell_type": "code",
      "metadata": {
        "id": "z1uKUF_nHhJd",
        "colab_type": "code",
        "colab": {
          "base_uri": "https://localhost:8080/",
          "height": 141
        },
        "outputId": "e5829036-bb66-4bf0-f6dd-6a34a2355266"
      },
      "source": [
        "#second\n",
        "\n",
        "#unit vectors\n",
        "q_x = [1,0,0]\n",
        "q_y = [0,1,0]\n",
        "q_z = [0,0,1]\n",
        "\n",
        "q_x_output = [\n",
        "            4*q_x[0] + q_x[1] + 2*q_x[2],\n",
        "            2*q_x[1] - q_x[0] + 3*q_x[2],\n",
        "            5*q_x[0] - 2*q_x[2] + q_x[1]\n",
        "]\n",
        "\n",
        "q_y_output = [\n",
        "            4*q_y[0] + q_y[1] + 2*q_y[2],\n",
        "            2*q_y[1] - q_y[0] + 3*q_y[2],\n",
        "            5*q_y[0] - 2*q_y[2] + q_y[1]\n",
        "]\n",
        "\n",
        "q_z_output = [\n",
        "            4*q_z[0] + q_z[1] + 2*q_z[2],\n",
        "            2*q_z[1] - q_z[0] + 3*q_z[2],\n",
        "            5*q_z[0] - 2*q_z[2] + q_z[1]\n",
        "]\n",
        "\n",
        "print('The X-values change by: ', q_x_output, ' and the Y-values change by: ', q_y_output, ' and the Z-values change by: ', q_z_output, '.')\n",
        "print('The combined transformation matrix is: \\n', np.array([[q_x_output], [q_y_output],[q_z_output]]))"
      ],
      "execution_count": 31,
      "outputs": [
        {
          "output_type": "stream",
          "text": [
            "The X-values change by:  [4, -1, 5]  and the Y-values change by:  [1, 2, 1]  and the Z-values change by:  [2, 3, -2] .\n",
            "The combined transformation matrix is: \n",
            " [[[ 4 -1  5]]\n",
            "\n",
            " [[ 1  2  1]]\n",
            "\n",
            " [[ 2  3 -2]]]\n"
          ],
          "name": "stdout"
        }
      ]
    },
    {
      "cell_type": "markdown",
      "metadata": {
        "id": "n5HUOQIxZ2gp",
        "colab_type": "text"
      },
      "source": [
        "## 4.2 Verify that your transformation matrices are correct by choosing an input matrix and calculating the result both via the traditional functions above and also via vector-matrix multiplication."
      ]
    },
    {
      "cell_type": "code",
      "metadata": {
        "id": "0UANR1IEaVWE",
        "colab_type": "code",
        "colab": {
          "base_uri": "https://localhost:8080/",
          "height": 87
        },
        "outputId": "0c3f9ee3-5860-419a-d280-3a23a9422da8"
      },
      "source": [
        "#come back to, dont understand why these values arent the same\n",
        "\n",
        "#function p\n",
        "p_tran_mat = [[1,-1],[3,2]]\n",
        "p_test = [3,5]\n",
        "p_test_op = [\n",
        "              p_test[0]+3*p_test[1], \n",
        "              2*p_test[1]-p_test[0]\n",
        "              ]\n",
        "\n",
        "#function p confirm via matrix multiplication\n",
        "p_mat_mul = np.matmul(p_tran_mat, p_test)\n",
        "\n",
        "print('As you can see, the test array [3,5] passed into the function \"p\" gives: \\n', p_test_op,\n",
        "      '\\n and the same test array multiplied by the unit vector transformation gives: \\n', p_mat_mul,'.')"
      ],
      "execution_count": 46,
      "outputs": [
        {
          "output_type": "stream",
          "text": [
            "As you can see, the test array [3,5] passed into the function \"p\" gives: \n",
            " [18, 7] \n",
            " and the same test array multiplied by the unit vector transformation gives: \n",
            " [-2 19] .\n"
          ],
          "name": "stdout"
        }
      ]
    },
    {
      "cell_type": "code",
      "metadata": {
        "id": "-XBxm3PTM9Qx",
        "colab_type": "code",
        "colab": {}
      },
      "source": [
        "#function q\n",
        "q_tran_mat = np.array([[q_x_output], [q_y_output],[q_z_output]])\n",
        "q_test = [\n",
        "          [3,4,5],\n",
        "    \n",
        "]"
      ],
      "execution_count": 0,
      "outputs": []
    },
    {
      "cell_type": "markdown",
      "metadata": {
        "id": "vEoiri3mak7j",
        "colab_type": "text"
      },
      "source": [
        "# Eigenvalues and Eigenvectors"
      ]
    },
    {
      "cell_type": "markdown",
      "metadata": {
        "id": "5HY0R4u7anIr",
        "colab_type": "text"
      },
      "source": [
        "## 5.1 In your own words, give an explanation for the intuition behind eigenvalues and eigenvectors."
      ]
    },
    {
      "cell_type": "markdown",
      "metadata": {
        "id": "VdehMwBtatKI",
        "colab_type": "text"
      },
      "source": [
        "# The Curse of Dimensionality"
      ]
    },
    {
      "cell_type": "markdown",
      "metadata": {
        "id": "4oVrJax-a3SK",
        "colab_type": "text"
      },
      "source": [
        "## 6.1 What are some of the challenges of working with high dimensional spaces?"
      ]
    },
    {
      "cell_type": "markdown",
      "metadata": {
        "id": "ZiBJxsZla88c",
        "colab_type": "text"
      },
      "source": [
        "## 6.2 What is the rule of thumb for how many observations you should have compared to parameters in your model?"
      ]
    },
    {
      "cell_type": "markdown",
      "metadata": {
        "id": "NZmqdeygbHJx",
        "colab_type": "text"
      },
      "source": [
        "# Principal Component Analysis"
      ]
    },
    {
      "cell_type": "markdown",
      "metadata": {
        "id": "7iEheetpbJdN",
        "colab_type": "text"
      },
      "source": [
        "## 7.1 Code for loading and cleaning the 2013 national dataset from the [Housing Affordability Data System (HADS)](https://www.huduser.gov/portal/datasets/hads/hads.html) --housing data, can be found below. \n",
        "\n",
        "## Perform PCA on the processed dataset `national_processed` (Make sure you standardize your data!) and then make a scatterplot of PC1 against PC2. Some of our discussion and work around PCA with this dataset will continue during tomorrow's lecture and assignment.\n",
        "\n",
        "Not only does this dataset have decent amount columns to begin with (99), but in preparing the data for PCA we have also [one-hot-encoded](https://hackernoon.com/what-is-one-hot-encoding-why-and-when-do-you-have-to-use-it-e3c6186d008f#targetText=One%20hot%20encoding%20is%20a,the%20entry%20in%20the%20dataset.) all of the categorical variables. This has the effect of creating a new column for each individual category of each categorical variable. After processing this dataset has 64738 columns. --Das a lot of columns.\n",
        "\n",
        "Don't worry too much about the mechanics of one-hot encoding right now, you will learn and experiment with a whole bunch of categorical encoding approaches in unit 2. \n",
        "\n",
        "The code below will read in the dataset and perform the one-hot encoding of the categorical variables. Start adding your PCA code at the bottom of the provided code."
      ]
    },
    {
      "cell_type": "code",
      "metadata": {
        "id": "Us4nNFs02HlD",
        "colab_type": "code",
        "colab": {}
      },
      "source": [
        "import os.path\n",
        "from urllib.request import urlopen\n",
        "from zipfile import ZipFile\n",
        "from io import BytesIO\n",
        "import pandas as pd\n",
        "\n",
        "# Read National Data \n",
        "national_url = 'https://www.huduser.gov/portal/datasets/hads/hads2013n_ASCII.zip'\n",
        "national_file = 'thads2013n.txt'\n",
        "\n",
        "if os.path.exists(national_file):\n",
        "    national = pd.read_csv(national_file)\n",
        "else: \n",
        "    z_national = urlopen(national_url)\n",
        "    zip_national = ZipFile(BytesIO(z_national.read())).extract(national_file)\n",
        "    national = pd.read_csv(zip_national)"
      ],
      "execution_count": 0,
      "outputs": []
    },
    {
      "cell_type": "code",
      "metadata": {
        "id": "wy9AZVgZcHLZ",
        "colab_type": "code",
        "colab": {}
      },
      "source": [
        "# Look at first 5 rows\n",
        "print(national.shape)\n",
        "national.head()"
      ],
      "execution_count": 0,
      "outputs": []
    },
    {
      "cell_type": "code",
      "metadata": {
        "id": "O5zrMTud2qFU",
        "colab_type": "code",
        "colab": {}
      },
      "source": [
        "# Look at datatypes\n",
        "# a lot of object datatypes even though they look to be strings of numbers.\n",
        "national.dtypes"
      ],
      "execution_count": 0,
      "outputs": []
    },
    {
      "cell_type": "code",
      "metadata": {
        "id": "yIrOjVmd2yLz",
        "colab_type": "code",
        "colab": {}
      },
      "source": [
        "# check for null values\n",
        "national.isnull().sum().any()"
      ],
      "execution_count": 0,
      "outputs": []
    },
    {
      "cell_type": "code",
      "metadata": {
        "id": "2u9tdmwX3KL_",
        "colab_type": "code",
        "colab": {}
      },
      "source": [
        "# check for number of categorical vs numeric columns\n",
        "cat_cols = national.columns[national.dtypes=='object']\n",
        "num_cols = national.columns[national.dtypes!='object']\n",
        "\n",
        "print(f'{len(cat_cols)} categorical columns')\n",
        "print(f'{len(num_cols)} numerical columns')"
      ],
      "execution_count": 0,
      "outputs": []
    },
    {
      "cell_type": "code",
      "metadata": {
        "id": "UMHOtOs_3gcL",
        "colab_type": "code",
        "colab": {}
      },
      "source": [
        "national_processed = national.copy()\n",
        "\n",
        "# Get One-Hot-Encoding of categorical variables\n",
        "national_processed = pd.get_dummies(national_processed)\n",
        "print(national_processed.shape)\n",
        "national_processed.head()"
      ],
      "execution_count": 0,
      "outputs": []
    },
    {
      "cell_type": "code",
      "metadata": {
        "id": "WAJ8bjVcEwhA",
        "colab_type": "code",
        "colab": {}
      },
      "source": [
        "### Your Code Here"
      ],
      "execution_count": 0,
      "outputs": []
    },
    {
      "cell_type": "markdown",
      "metadata": {
        "id": "RQx7UvsucIrL",
        "colab_type": "text"
      },
      "source": [
        "# Stretch Goals\n",
        "\n",
        "## 1) Perform further data exploration on the HADS national dataset (the version before we one-hot encoded it) Make scatterplots and see if you can see any resemblance between the original scatterplots and the plot of the principal components that you made in 7.1. \n",
        "\n",
        "(You may or may not not see very much resemblance depending on the variables you choose, and that's ok!)\n",
        "\n",
        "## 2) Study \"Scree Plots\" and then try and make one for your PCA dataset. How many principal conponents do you need to retain in order for your PCs to contain 90% of the explained variance? \n",
        "\n",
        "We will present this topic formally at the beginning of tomorrow's lecture, so if you figure this stretch goal out, you're ahead of the game. \n",
        "\n",
        "## 3) Explore further the intuition behind eigenvalues and eigenvectors by creating your very own eigenfaces:\n",
        "\n",
        "Prioritize self-study over this stretch goal if you are not semi-comfortable with the topics of PCA, Eigenvalues, and Eigenvectors.\n",
        "\n",
        "![Eigenfaces](https://i.pinimg.com/236x/1c/f1/01/1cf101a9859437a5d096a04b05be06b4--faces-tattoo.jpg)\n",
        "\n",
        "You don't necessarily have to use this resource, but this will get you started: \n",
        "[Eigenface Tutorial](https://sandipanweb.wordpress.com/2018/01/06/eigenfaces-and-a-simple-face-detector-with-pca-svd-in-python/)"
      ]
    }
  ]
}